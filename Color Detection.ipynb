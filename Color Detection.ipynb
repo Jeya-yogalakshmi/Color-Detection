{
 "cells": [
  {
   "cell_type": "markdown",
   "id": "e07fa043",
   "metadata": {},
   "source": [
    "## Import modules"
   ]
  },
  {
   "cell_type": "code",
   "execution_count": 1,
   "id": "cd21dcab",
   "metadata": {},
   "outputs": [],
   "source": [
    "import cv2\n",
    "import pandas as pd"
   ]
  },
  {
   "cell_type": "markdown",
   "id": "25c6af15",
   "metadata": {},
   "source": [
    "## Load Image and dataset"
   ]
  },
  {
   "cell_type": "code",
   "execution_count": 2,
   "id": "96facadf",
   "metadata": {},
   "outputs": [],
   "source": [
    "img=cv2.imread(\"colorpic.jpg\")\n",
    "index = [\"color\", \"color_name\", \"hex\", \"R\", \"G\", \"B\"]\n",
    "df=pd.read_csv(\"colors.csv\", names=index, header=None)\n",
    "#cv2.imshow(\"Image\",img)\n",
    "#df.head()"
   ]
  },
  {
   "cell_type": "markdown",
   "id": "a82647e3",
   "metadata": {},
   "source": [
    "## Declaring global variables"
   ]
  },
  {
   "cell_type": "code",
   "execution_count": 3,
   "id": "362db12a",
   "metadata": {},
   "outputs": [],
   "source": [
    "clicked=False\n",
    "r=g=b=x_pos=y_pos=0"
   ]
  },
  {
   "cell_type": "markdown",
   "id": "9a532b50",
   "metadata": {},
   "source": [
    "## Function to get the color name"
   ]
  },
  {
   "cell_type": "code",
   "execution_count": 4,
   "id": "efc5f763",
   "metadata": {},
   "outputs": [],
   "source": [
    "def get_colorName(R,G,B):\n",
    "    min=10000\n",
    "    for i in range(len(df)):\n",
    "        dist = abs(R-int(df.loc[i,\"R\"])) + abs(G - int(df.loc[i,\"G\"])) + abs(B - int(df.loc[i,\"B\"]))\n",
    "        if(dist<min):\n",
    "            min = dist\n",
    "            colorName = df.loc[i,'color_name']\n",
    "    return colorName"
   ]
  },
  {
   "cell_type": "markdown",
   "id": "843e9a84",
   "metadata": {},
   "source": [
    "## Function to define x,y coordinates"
   ]
  },
  {
   "cell_type": "code",
   "execution_count": 5,
   "id": "c4fc2691",
   "metadata": {},
   "outputs": [],
   "source": [
    "def draw(event, x, y, flags, param):\n",
    "    if(event==cv2.EVENT_LBUTTONDBLCLK):\n",
    "        global b,g,r,x_pos,y_pos,clicked\n",
    "        clicked=True\n",
    "        x_pos=x\n",
    "        y_pos=y\n",
    "        (b, g, r) = img[y, x]\n",
    "        b=int(b)\n",
    "        g=int(g)\n",
    "        r=int(r)"
   ]
  },
  {
   "cell_type": "code",
   "execution_count": 6,
   "id": "53cc6203",
   "metadata": {},
   "outputs": [
    {
     "ename": "KeyboardInterrupt",
     "evalue": "",
     "output_type": "error",
     "traceback": [
      "\u001b[1;31m---------------------------------------------------------------------------\u001b[0m",
      "\u001b[1;31mKeyboardInterrupt\u001b[0m                         Traceback (most recent call last)",
      "\u001b[1;32m~\\AppData\\Local\\Temp/ipykernel_14708/4248509421.py\u001b[0m in \u001b[0;36m<module>\u001b[1;34m\u001b[0m\n\u001b[0;32m     12\u001b[0m             \u001b[0mcv2\u001b[0m\u001b[1;33m.\u001b[0m\u001b[0mputText\u001b[0m\u001b[1;33m(\u001b[0m\u001b[0mimg\u001b[0m\u001b[1;33m,\u001b[0m \u001b[0mtext\u001b[0m\u001b[1;33m,\u001b[0m \u001b[1;33m(\u001b[0m\u001b[1;36m50\u001b[0m\u001b[1;33m,\u001b[0m\u001b[1;36m50\u001b[0m\u001b[1;33m)\u001b[0m\u001b[1;33m,\u001b[0m \u001b[1;36m2\u001b[0m\u001b[1;33m,\u001b[0m \u001b[1;36m0.8\u001b[0m\u001b[1;33m,\u001b[0m \u001b[1;33m(\u001b[0m\u001b[1;36m0\u001b[0m\u001b[1;33m,\u001b[0m\u001b[1;36m0\u001b[0m\u001b[1;33m,\u001b[0m\u001b[1;36m0\u001b[0m\u001b[1;33m)\u001b[0m\u001b[1;33m,\u001b[0m \u001b[1;36m2\u001b[0m\u001b[1;33m,\u001b[0m \u001b[0mcv2\u001b[0m\u001b[1;33m.\u001b[0m\u001b[0mLINE_AA\u001b[0m\u001b[1;33m)\u001b[0m\u001b[1;33m\u001b[0m\u001b[1;33m\u001b[0m\u001b[0m\n\u001b[0;32m     13\u001b[0m         \u001b[0mclicked\u001b[0m\u001b[1;33m=\u001b[0m\u001b[1;32mFalse\u001b[0m\u001b[1;33m\u001b[0m\u001b[1;33m\u001b[0m\u001b[0m\n\u001b[1;32m---> 14\u001b[1;33m     \u001b[1;32mif\u001b[0m\u001b[1;33m(\u001b[0m\u001b[0mcv2\u001b[0m\u001b[1;33m.\u001b[0m\u001b[0mwaitKey\u001b[0m\u001b[1;33m(\u001b[0m\u001b[1;36m20\u001b[0m\u001b[1;33m)\u001b[0m \u001b[1;33m&\u001b[0m \u001b[1;36m0xFF\u001b[0m \u001b[1;33m==\u001b[0m \u001b[1;36m27\u001b[0m\u001b[1;33m)\u001b[0m\u001b[1;33m:\u001b[0m\u001b[1;33m\u001b[0m\u001b[1;33m\u001b[0m\u001b[0m\n\u001b[0m\u001b[0;32m     15\u001b[0m         \u001b[1;32mbreak\u001b[0m\u001b[1;33m\u001b[0m\u001b[1;33m\u001b[0m\u001b[0m\n\u001b[0;32m     16\u001b[0m \u001b[0mcv2\u001b[0m\u001b[1;33m.\u001b[0m\u001b[0mdestroyAllWindows\u001b[0m\u001b[1;33m(\u001b[0m\u001b[1;33m)\u001b[0m\u001b[1;33m\u001b[0m\u001b[1;33m\u001b[0m\u001b[0m\n",
      "\u001b[1;31mKeyboardInterrupt\u001b[0m: "
     ]
    }
   ],
   "source": [
    "#cv2.startWindowThread()\n",
    "cv2.namedWindow(\"Image\")\n",
    "cv2.setMouseCallback(\"Image\",draw)\n",
    "#cv2.imshow(\"Image\",img)\n",
    "while True:\n",
    "    cv2.imshow(\"Image\",img)\n",
    "    if clicked:\n",
    "        cv2.rectangle(img , (20,20), (750,60), (b, g, r), -1)\n",
    "        text = get_colorName(r,g,b)+\" R= \"+str(r)+\" G= \"+str(g)+\" B= \"+str(b)\n",
    "        cv2.putText(img, text, (50,50), 2, 0.8, (255,255,255), 2, cv2.LINE_AA)\n",
    "        if(r+g+b >= 600):\n",
    "            cv2.putText(img, text, (50,50), 2, 0.8, (0,0,0), 2, cv2.LINE_AA)\n",
    "        clicked=False\n",
    "    if(cv2.waitKey(20) & 0xFF == 27):\n",
    "        break\n",
    "cv2.destroyAllWindows()"
   ]
  },
  {
   "cell_type": "code",
   "execution_count": null,
   "id": "c33288a8",
   "metadata": {},
   "outputs": [],
   "source": []
  },
  {
   "cell_type": "code",
   "execution_count": null,
   "id": "5c13b09d",
   "metadata": {},
   "outputs": [],
   "source": []
  },
  {
   "cell_type": "code",
   "execution_count": null,
   "id": "3da013f0",
   "metadata": {},
   "outputs": [],
   "source": []
  },
  {
   "cell_type": "code",
   "execution_count": null,
   "id": "61370fdf",
   "metadata": {},
   "outputs": [],
   "source": []
  },
  {
   "cell_type": "code",
   "execution_count": null,
   "id": "64f9d167",
   "metadata": {},
   "outputs": [],
   "source": []
  }
 ],
 "metadata": {
  "kernelspec": {
   "display_name": "Python 3 (ipykernel)",
   "language": "python",
   "name": "python3"
  },
  "language_info": {
   "codemirror_mode": {
    "name": "ipython",
    "version": 3
   },
   "file_extension": ".py",
   "mimetype": "text/x-python",
   "name": "python",
   "nbconvert_exporter": "python",
   "pygments_lexer": "ipython3",
   "version": "3.9.7"
  }
 },
 "nbformat": 4,
 "nbformat_minor": 5
}
