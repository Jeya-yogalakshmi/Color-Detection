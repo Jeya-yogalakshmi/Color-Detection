{
 "cells": [
  {
   "cell_type": "markdown",
   "id": "e07fa043",
   "metadata": {},
   "source": [
    "## Import modules"
   ]
  },
  {
   "cell_type": "code",
   "execution_count": 13,
   "id": "cd21dcab",
   "metadata": {},
   "outputs": [],
   "source": [
    "import cv2\n",
    "import pandas as pd"
   ]
  },
  {
   "cell_type": "markdown",
   "id": "25c6af15",
   "metadata": {},
   "source": [
    "## Load Image and dataset"
   ]
  },
  {
   "cell_type": "code",
   "execution_count": 14,
   "id": "96facadf",
   "metadata": {},
   "outputs": [
    {
     "name": "stdout",
     "output_type": "stream",
     "text": [
      "opencv_frame_0.png written!\n",
      "Escape hit, closing...\n"
     ]
    }
   ],
   "source": [
    "cam = cv2.VideoCapture(0)\n",
    "\n",
    "cv2.namedWindow(\"Capture\")\n",
    "\n",
    "img_counter = 0\n",
    "\n",
    "while True:\n",
    "    ret, frame = cam.read()\n",
    "    if not ret:\n",
    "        print(\"failed to grab frame\")\n",
    "        break\n",
    "    cv2.imshow(\"Capture\", frame)\n",
    "\n",
    "    k = cv2.waitKey(1)\n",
    "    if k%256 == 27:\n",
    "        # ESC pressed\n",
    "        print(\"Escape hit, closing...\")\n",
    "        break\n",
    "    elif k%256 == 32:\n",
    "        # SPACE pressed\n",
    "        img_name = \"opencv_frame_{}.png\".format(img_counter)\n",
    "        cv2.imwrite(img_name, frame)\n",
    "        print(\"{} written!\".format(img_name))\n",
    "        img_counter += 1\n",
    "\n",
    "cam.release()\n",
    "\n",
    "cv2.destroyAllWindows()\n",
    "img=cv2.imread(img_name)\n",
    "#img=cv2.imread(\"colorpic.png\")\n",
    "index = [\"color\", \"color_name\", \"hex\", \"R\", \"G\", \"B\"]\n",
    "df=pd.read_csv(\"D:/Color-Detection dataset/colors.csv\", names=index, header=None)"
   ]
  },
  {
   "cell_type": "markdown",
   "id": "a82647e3",
   "metadata": {},
   "source": [
    "## Declaring global variables"
   ]
  },
  {
   "cell_type": "code",
   "execution_count": 15,
   "id": "362db12a",
   "metadata": {},
   "outputs": [],
   "source": [
    "clicked=False\n",
    "r=g=b=x_pos=y_pos=0"
   ]
  },
  {
   "cell_type": "markdown",
   "id": "9a532b50",
   "metadata": {},
   "source": [
    "## Function to get the color name"
   ]
  },
  {
   "cell_type": "code",
   "execution_count": 16,
   "id": "efc5f763",
   "metadata": {},
   "outputs": [],
   "source": [
    "def get_colorName(R,G,B):\n",
    "    min=10000\n",
    "    for i in range(len(df)):\n",
    "        dist = abs(R-int(df.loc[i,\"R\"])) + abs(G - int(df.loc[i,\"G\"])) + abs(B - int(df.loc[i,\"B\"]))\n",
    "        if(dist<min):\n",
    "            min = dist\n",
    "            colorName = df.loc[i,'color_name']\n",
    "    return colorName"
   ]
  },
  {
   "cell_type": "markdown",
   "id": "843e9a84",
   "metadata": {},
   "source": [
    "## Function to define x,y coordinates"
   ]
  },
  {
   "cell_type": "code",
   "execution_count": 17,
   "id": "c4fc2691",
   "metadata": {},
   "outputs": [],
   "source": [
    "def draw(event, x, y, flags, param):\n",
    "    if(event==cv2.EVENT_LBUTTONDBLCLK):\n",
    "        global b,g,r,x_pos,y_pos,clicked\n",
    "        clicked=True\n",
    "        x_pos=x\n",
    "        y_pos=y\n",
    "        (b, g, r) = img[y, x]\n",
    "        b=int(b)\n",
    "        g=int(g)\n",
    "        r=int(r)"
   ]
  },
  {
   "cell_type": "code",
   "execution_count": 18,
   "id": "53cc6203",
   "metadata": {},
   "outputs": [],
   "source": [
    "cv2.namedWindow(\"Image\")\n",
    "cv2.setMouseCallback(\"Image\",draw)\n",
    "while True:\n",
    "    cv2.imshow(\"Image\",img)\n",
    "    if clicked:\n",
    "        cv2.rectangle(img , (20,20), (750,60), (b, g, r), -1)\n",
    "        text = get_colorName(r,g,b)+\" R= \"+str(r)+\" G= \"+str(g)+\" B= \"+str(b)\n",
    "        cv2.putText(img, text, (50,50), 2, 0.8, (255,255,255), 2, cv2.LINE_AA)\n",
    "        if(r+g+b >= 600):\n",
    "            cv2.putText(img, text, (50,50), 2, 0.8, (0,0,0), 2, cv2.LINE_AA)\n",
    "        clicked=False\n",
    "    if(cv2.waitKey(20) & 0xFF == 27):\n",
    "        break\n",
    "cv2.destroyAllWindows()"
   ]
  },
  {
   "cell_type": "code",
   "execution_count": null,
   "id": "c33288a8",
   "metadata": {},
   "outputs": [],
   "source": []
  },
  {
   "cell_type": "code",
   "execution_count": null,
   "id": "5c13b09d",
   "metadata": {},
   "outputs": [],
   "source": []
  },
  {
   "cell_type": "code",
   "execution_count": null,
   "id": "3da013f0",
   "metadata": {},
   "outputs": [],
   "source": []
  },
  {
   "cell_type": "code",
   "execution_count": null,
   "id": "61370fdf",
   "metadata": {},
   "outputs": [],
   "source": []
  },
  {
   "cell_type": "code",
   "execution_count": null,
   "id": "64f9d167",
   "metadata": {},
   "outputs": [],
   "source": []
  }
 ],
 "metadata": {
  "kernelspec": {
   "display_name": "Python 3 (ipykernel)",
   "language": "python",
   "name": "python3"
  },
  "language_info": {
   "codemirror_mode": {
    "name": "ipython",
    "version": 3
   },
   "file_extension": ".py",
   "mimetype": "text/x-python",
   "name": "python",
   "nbconvert_exporter": "python",
   "pygments_lexer": "ipython3",
   "version": "3.9.7"
  }
 },
 "nbformat": 4,
 "nbformat_minor": 5
}
